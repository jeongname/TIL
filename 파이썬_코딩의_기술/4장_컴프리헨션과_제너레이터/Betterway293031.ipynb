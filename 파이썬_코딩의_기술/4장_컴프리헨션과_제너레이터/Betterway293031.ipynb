{
 "cells": [
  {
   "attachments": {},
   "cell_type": "markdown",
   "metadata": {},
   "source": [
    " ### BETTER WAY 29. 대입식을 사용해 컴프리헨션 안에서 반복작업을 피하라"
   ]
  },
  {
   "cell_type": "code",
   "execution_count": 1,
   "metadata": {},
   "outputs": [],
   "source": [
    "stock = {\n",
    "    '못' : 125,\n",
    "    '나사못' : 35,\n",
    "    '나비너트' : 8,\n",
    "    '와셔' : 24,\n",
    "}\n",
    "\n",
    "order = ['나사못', '나비너트', '클립']"
   ]
  },
  {
   "cell_type": "code",
   "execution_count": 8,
   "metadata": {},
   "outputs": [],
   "source": [
    "def get_batches(count, size):\n",
    "    return count//size\n",
    "\n",
    "result = {}\n",
    "\n",
    "for name in order :\n",
    "    count = stock.get(name, 0) #  get : 대응되는 키 값을 반환, key값이 없으면 0으로 반환 (원래는 None으로 반환)\n",
    "    batches = get_batches(count, 8) # count를 받아서 size로 나눈다.\n",
    "    if batches: # 0이 아니면 True로 넘어감\n",
    "        result[name] = batches # 다시 dictionary로"
   ]
  },
  {
   "cell_type": "code",
   "execution_count": 11,
   "metadata": {},
   "outputs": [
    {
     "name": "stdout",
     "output_type": "stream",
     "text": [
      "{'나사못': 4, '나비너트': 1}\n"
     ]
    }
   ],
   "source": [
    "found = {name : get_batches(stock.get(name, 0), 8)\n",
    "         for name in order\n",
    "         if get_batches(stock.get(name,0), 8)}\n",
    "\n",
    "print(found)"
   ]
  },
  {
   "attachments": {},
   "cell_type": "markdown",
   "metadata": {},
   "source": [
    "문제점 : get_batches(stock.get(name,0), 8)이 반복된다는 단점\n",
    "> 실수 할 가능성이 높아짐\n",
    "\n",
    "------\n",
    "해결 방안\n",
    "> 왈러스 연산자(:=) 사용  \n",
    "\n",
    "> 왈러스 연산자 (:=)란?  \n",
    "    >> 대입과 평가를 한번에 할 수 있는 연산자  "
   ]
  },
  {
   "cell_type": "code",
   "execution_count": 12,
   "metadata": {},
   "outputs": [
    {
     "name": "stdout",
     "output_type": "stream",
     "text": [
      "True\n"
     ]
    }
   ],
   "source": [
    "# # 오류 발생 코드\n",
    "# t = 0\n",
    "# if (t = 3) != 0:\n",
    "#     print('True')\n",
    "\n",
    "# 이때 사용하는 것이 왈러스 연산자\n",
    "t = 0\n",
    "if (t := 3) != 0:\n",
    "    print('True')"
   ]
  },
  {
   "attachments": {},
   "cell_type": "markdown",
   "metadata": {},
   "source": [
    "대입식을 사용하면 stock 딕셔너리에 각 order 키를 한 번만 조회하고 get_batches를 한 번만 호출해서 그 결과를 batches 변수에 저장할 수 있다.\n",
    "\n",
    "-> 불필요한 연산 감소"
   ]
  },
  {
   "cell_type": "code",
   "execution_count": 13,
   "metadata": {},
   "outputs": [],
   "source": [
    "found = {name : batches for name in order\n",
    "        if (batches := get_batches(stock.get(name, 0), 8))}"
   ]
  },
  {
   "cell_type": "code",
   "execution_count": 14,
   "metadata": {},
   "outputs": [
    {
     "name": "stdout",
     "output_type": "stream",
     "text": [
      "{'못': 12, '나사못': 3, '와셔': 2}\n"
     ]
    }
   ],
   "source": [
    "# # tenth > 0 부분에서 tenth가 정의되어 있지 않으므로 값을 읽을 때 오류 발생\n",
    "# result = {name (tenth := count // 10)\n",
    "#           for name, count in stock.items() if tenth > 0} # .items() key와 value를 한꺼번에 for문 반복\n",
    "\n",
    "# 대입식을 조건 쪽으로 옮기고 대입식에서 만들어진 변수 이름을 컴프리헨션 값 식에서 참조하면 문제 해결\n",
    "result = {name : tenth for name, count in stock.items()\n",
    "          if (tenth := count // 10) > 0}\n",
    "print(result)"
   ]
  },
  {
   "cell_type": "code",
   "execution_count": 16,
   "metadata": {},
   "outputs": [
    {
     "name": "stdout",
     "output_type": "stream",
     "text": [
      "[62, 17, 4, 12]의 마지막 원소는 12\n",
      "[125, 35, 8, 24]의 마지막 원소는 24\n"
     ]
    }
   ],
   "source": [
    "# 컴프리헨션이 값 부분에서 왈러스 연산자를 사용할 때, 그 값에 대한 조건부분이 없다면 루프 밖으로 루프 변수 누출\n",
    "\n",
    "half = [(last := count // 2) for count in stock.values()]\n",
    "print(f'{half}의 마지막 원소는 {last}')\n",
    "\n",
    "# for문 루프에서도 비슷\n",
    "for count in stock.values():\n",
    "    pass # 클래스나 함수에서 내부 동작은 필요없고, 이름만 전달해주는 경우\n",
    "print(f'{list(stock.values())}의 마지막 원소는 {count}')"
   ]
  },
  {
   "attachments": {},
   "cell_type": "markdown",
   "metadata": {},
   "source": [
    "루프 변수가 누출되지 않기 위해서는 컴프리센션 대입식을 조건에만 사용하는 것을 권장"
   ]
  },
  {
   "cell_type": "code",
   "execution_count": 17,
   "metadata": {},
   "outputs": [
    {
     "name": "stdout",
     "output_type": "stream",
     "text": [
      "[62, 17, 4, 12]\n",
      "24\n"
     ]
    }
   ],
   "source": [
    "# 바로 앞 예제를 처리하다가 count가 정의 된 경우에는 제대로 작동 X\n",
    "# 파이썬을 재시작하고 아래 코드를 실행해야 오류 볼 수 있음\n",
    "\n",
    "half = [count // 2 for count in stock.values()]\n",
    "print(half) # 작동함\n",
    "print(count) # 루프 변수가 누출되지 않기 때문에 예외 발생"
   ]
  },
  {
   "cell_type": "code",
   "execution_count": 18,
   "metadata": {},
   "outputs": [
    {
     "name": "stdout",
     "output_type": "stream",
     "text": [
      "('나사못', 4)\n",
      "('나비너트', 1)\n"
     ]
    }
   ],
   "source": [
    "found = ((name, batches) for name in order\n",
    "         if (batches := get_batches(stock.get(name, 0), 8)))\n",
    "\n",
    "print(next(found))\n",
    "print(next(found))"
   ]
  },
  {
   "attachments": {},
   "cell_type": "markdown",
   "metadata": {},
   "source": [
    "### BETTER WAY 30. 리스트를 반환하기보다는 제너레이터를 사용하라"
   ]
  },
  {
   "cell_type": "code",
   "execution_count": 24,
   "metadata": {},
   "outputs": [],
   "source": [
    "def index_words(text):\n",
    "    result = []\n",
    "    if text:\n",
    "        result.append(0)\n",
    "    for index, letter in enumerate(text):\n",
    "        if letter == ' ':\n",
    "            result.append(index + 1)\n",
    "    return result"
   ]
  },
  {
   "cell_type": "code",
   "execution_count": 36,
   "metadata": {},
   "outputs": [
    {
     "name": "stdout",
     "output_type": "stream",
     "text": [
      "[0, 8, 18, 23, 28, 33, 39]\n"
     ]
    }
   ],
   "source": [
    "address = '컴퓨터(영어: Computer, 문화어: 콤퓨터, 순화어: 전산기)는 진공관'\n",
    "result = index_words(address)\n",
    "print(result[:11])"
   ]
  },
  {
   "attachments": {},
   "cell_type": "markdown",
   "metadata": {},
   "source": [
    "위 코드의 문제점\n",
    "\n",
    "1. 코드에 잡음이 많고 핵심을 알아보기 어렵다.\n",
    "2. 코드는 새로운 결과를 찾을 때 마다 append 메서드를 호출한다.\n",
    "3. 메서드 호출의 덩어리가 너무 크기 때문에, result.append 리스트에 추가될 값 (index+1)의 중요성을 희석해버린다. >> 무슨말이지?\n",
    "4. 공백 제회 130여 개 글자가 함수 본문 전체에 들어가는데, 그 중 75개 글자 내외만 중요한 일을 한다.\n",
    "\n",
    "\n",
    "개선 방안\n",
    "\n",
    "> 제너레이터\n",
    ">> 제너레이터란 : Generator란 Iterator를 생성해주는 함수를 의미, Generator는 모든 값을 메모리에 담고 있지 않고, 그때그때 값을 생성해서 반환하기 때문에 제너레이터를 사용할 때는 한 번에 한 개의 값만 순환할 수 있다.\n",
    ">>> 이터레이션이란 : for 문에서  어떤 객체의 원소에 하나씩 차례로 접근하는 것\n",
    "\n",
    "yield 식\n",
    "> 파이썬 제너레이터를 만드는데 사용되는 키워드"
   ]
  },
  {
   "cell_type": "code",
   "execution_count": 39,
   "metadata": {},
   "outputs": [],
   "source": [
    "# Example 3\n",
    "def index_words_iter(text):\n",
    "    if text:\n",
    "        yield 0\n",
    "    for index, letter in enumerate(text):\n",
    "        if letter == ' ':\n",
    "            yield index + 1"
   ]
  },
  {
   "cell_type": "code",
   "execution_count": 41,
   "metadata": {},
   "outputs": [
    {
     "name": "stdout",
     "output_type": "stream",
     "text": [
      "0\n",
      "8\n",
      "18\n"
     ]
    }
   ],
   "source": [
    "it = index_words_iter(address)\n",
    "\n",
    "print(next(it))\n",
    "print(next(it))\n",
    "print(next(it))"
   ]
  },
  {
   "attachments": {},
   "cell_type": "markdown",
   "metadata": {},
   "source": [
    "반환하는 리스트와 상호작용하는 코드가 없어졌으므로 index_words_iter 함수가 훨씬 읽기 쉽다.  \n",
    "대신 결과는 yield 식에 의해 전달된다.  \n",
    "제너레이터가 반환하는 이터레이터를 리스트 내장함수에 넘기면, 필요할 때 제너레이터를 쉽게 리스트로 변환할 수 있다."
   ]
  },
  {
   "cell_type": "code",
   "execution_count": 42,
   "metadata": {},
   "outputs": [
    {
     "name": "stdout",
     "output_type": "stream",
     "text": [
      "[0, 8, 18, 23, 28, 33, 39]\n"
     ]
    }
   ],
   "source": [
    "result = list(index_words_iter(address))\n",
    "print(result[:10])"
   ]
  },
  {
   "attachments": {},
   "cell_type": "markdown",
   "metadata": {},
   "source": [
    "index_words의 두번째 문제점  \n",
    "\n",
    "반환하기 전에 리스트에 모든 결과를 다 저장해야 한다는 것  \n",
    "> 입력이 매우 크면 프로그램이 메모리를 소진해서 중단될 수 있음.\n",
    ">> 같은 함수를 제너레이터 버전으로 만들면 사용하는 메모리 크기를 어느정도 제한할 수 있으므로 입력 길이가 아무리 길어도 쉽게 처리할 수 있다.  "
   ]
  },
  {
   "cell_type": "code",
   "execution_count": 60,
   "metadata": {},
   "outputs": [],
   "source": [
    "# 함수의 작업 메모리는 입력 중 가장 긴 줄의 길이로 제한\n",
    "\n",
    "def index_file(handle):\n",
    "    offset = 0 # offset == index\n",
    "    for line in handle :\n",
    "        if line:\n",
    "            yield offset\n",
    "        for letter in line :\n",
    "            offset += 1\n",
    "            if letter == ' ' :\n",
    "                yield offset # yield : 제너레이터 값을 전환하고 반환"
   ]
  },
  {
   "cell_type": "code",
   "execution_count": 68,
   "metadata": {},
   "outputs": [
    {
     "name": "stdout",
     "output_type": "stream",
     "text": [
      "[0, 8, 18, 23, 28, 33, 39, 43, 52, 64]\n"
     ]
    }
   ],
   "source": [
    "import itertools\n",
    "\n",
    "with open('address.txt','r', encoding='utf-8') as f :\n",
    "    it = index_file(f)\n",
    "    results = itertools.islice(it, 0, 10) # intertools : 효율적인 루핑을 위한 이터레이터를 만드는 함수, islice : 0번부터 10개까지 잘라라\n",
    "    print(list(results))"
   ]
  },
  {
   "attachments": {},
   "cell_type": "markdown",
   "metadata": {},
   "source": [
    "### BEETER WAY 31 : 인자에 대해 이터레이션 할 때는 방어적이 돼라"
   ]
  },
  {
   "attachments": {},
   "cell_type": "markdown",
   "metadata": {},
   "source": [
    "객체가 원소로 들어있는 리스트를 함수가 파라미터로 받았을 때, 리스트를 여러 번 이터레이션 하는 것이 중요할 때가 종종 있다.\n",
    "\n",
    "- 미국 텍사스 주의 여행자수 분석하고 싶음\n",
    "- 데이터 집합이 도시별 방문자 수라고 가정\n",
    "- 각 도시가 전체 여행자 수 중에 차지하는 비율을 계산하고 싶음\n",
    "\n",
    "-> 1년 전체 여행자 수를 계산하기 위해 입력 전체 합계를 내고, 이 합계로 각 도시의 방문자 수를 나누는 정규화 함수 필요"
   ]
  },
  {
   "cell_type": "code",
   "execution_count": 70,
   "metadata": {},
   "outputs": [],
   "source": [
    "def normalize(numbers):\n",
    "    total = sum(numbers)\n",
    "    result = []\n",
    "    for value in numbers:\n",
    "        percent = 100 * value / total\n",
    "        result.append(percent)\n",
    "    return result"
   ]
  },
  {
   "cell_type": "code",
   "execution_count": 71,
   "metadata": {},
   "outputs": [
    {
     "name": "stdout",
     "output_type": "stream",
     "text": [
      "[11.538461538461538, 26.923076923076923, 61.53846153846154]\n"
     ]
    }
   ],
   "source": [
    "visits = [15,35,80]\n",
    "percentages = normalize(visits)\n",
    "print(percentages)\n",
    "assert sum(percentages) == 100.0\n",
    "\n",
    "# assert : 주어진 조건이 True가 아니면 AssertionError를 발생시키는 역할\n",
    "# assert 조건, 에러메세지\n",
    "# assert 역할 : 코드 내 특정 조건을 검증하고, 코드의 안정성과 디버깅을 도와주는 역할"
   ]
  },
  {
   "cell_type": "code",
   "execution_count": 72,
   "metadata": {},
   "outputs": [],
   "source": [
    "def read_visits(data_path):\n",
    "    with open(data_path) as f: # with문을 사용하면 파일을 열고 닫는 과정을 자동으로 처리할 수 있음 / 파일 객체 f에 할당 -> f를 이용하여 파일 읽거나 쓰기 가능\n",
    "        for line in f:\n",
    "            yield int(line)"
   ]
  },
  {
   "cell_type": "code",
   "execution_count": 77,
   "metadata": {},
   "outputs": [
    {
     "name": "stdout",
     "output_type": "stream",
     "text": [
      "<generator object read_visits at 0x7f3018109a80>\n",
      "[]\n"
     ]
    }
   ],
   "source": [
    "it = read_visits('my_numbers.txt') # 여기서 이미 생성됨\n",
    "percentages = normalize(it) # 다시 이터레이션\n",
    "print(percentages)"
   ]
  },
  {
   "attachments": {},
   "cell_type": "markdown",
   "metadata": {},
   "source": [
    "아무 결과도 나오지 않은 이유  \n",
    "\n",
    "이터레이터가 결과를 단 한 번만 만들어내기 때문에, StopIteration 예외가 발생한 이터레이터나 제너레이터를 다시 이터레이션 하면 아무 결과도 얻을 수 X"
   ]
  },
  {
   "cell_type": "code",
   "execution_count": 76,
   "metadata": {},
   "outputs": [
    {
     "name": "stdout",
     "output_type": "stream",
     "text": [
      "[15, 35, 80]\n",
      "[]\n"
     ]
    }
   ],
   "source": [
    "it = read_visits('my_numbers.txt')\n",
    "print(list(it))\n",
    "print(list(it))"
   ]
  },
  {
   "attachments": {},
   "cell_type": "markdown",
   "metadata": {},
   "source": [
    "for loop, list 생성자, 파이썬 표준 라이브러리에 있는 많은 함수가 일반적인 연산 도중에 StopIteration 예외가 던져지는 것을 가정.\n",
    "> 이런 함수들은 출력이 없는 이터레이터와 이미 소진돼버린 이터레이터를 구분할 수 X"
   ]
  },
  {
   "cell_type": "code",
   "execution_count": null,
   "metadata": {},
   "outputs": [],
   "source": [
    "def normalize_copy(numbers) :\n",
    "    numbers_copy = list(numbers) # 이터레이터 복사\n",
    "    total = sum(numbers_copy)\n",
    "    result = []\n",
    "    for value in numbers_copy :\n",
    "        percent = 100 * value / total\n",
    "        result.append(percent)\n",
    "    return result"
   ]
  }
 ],
 "metadata": {
  "kernelspec": {
   "display_name": "Python 3",
   "language": "python",
   "name": "python3"
  },
  "language_info": {
   "codemirror_mode": {
    "name": "ipython",
    "version": 3
   },
   "file_extension": ".py",
   "mimetype": "text/x-python",
   "name": "python",
   "nbconvert_exporter": "python",
   "pygments_lexer": "ipython3",
   "version": "3.10.6"
  },
  "orig_nbformat": 4
 },
 "nbformat": 4,
 "nbformat_minor": 2
}
