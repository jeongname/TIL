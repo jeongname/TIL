{
 "cells": [
  {
   "attachments": {},
   "cell_type": "markdown",
   "metadata": {},
   "source": [
    "## BETTER WAY 37. 내장 타입을 여러개로 내포시키기 보다는 클래스를 합성하라."
   ]
  },
  {
   "attachments": {},
   "cell_type": "markdown",
   "metadata": {},
   "source": [
    "- 파이썬 내장 딕셔너리 타입을 사용하면, 객체의 생명 주기 동안 동적인 내부 상태를 잘 유지할 수 있다.\n",
    "> 동적(dynamic) : 어떤 값이 들어올지 미리 알 수 없는 식별자들을 유지해야 함\n",
    "\n",
    "ex) 학생의 이름은 미리 알 수 없는 상황이라고 하자. 이럴때는 학생별로 미리 정의된 애트리뷰트를 사용하는 대신, 딕셔너리에 이름을 저장하는 클래스를 정의할 수 있다.\n",
    "> 애트리뷰트 : 속성, column"
   ]
  },
  {
   "cell_type": "code",
   "execution_count": 1,
   "metadata": {},
   "outputs": [],
   "source": [
    "class SimpleGradebook :\n",
    "    def __init__(self) :\n",
    "        self._grades = {}\n",
    "\n",
    "    def add_student(self, name):\n",
    "        self._grades[name] = []\n",
    "    \n",
    "    def report_grade(self, name, score):\n",
    "        self._grades[name].append(score)\n",
    "    \n",
    "    def average_grade(self, name):\n",
    "        grades = self._grades[name]\n",
    "        return sum(grades) / len(grades)"
   ]
  },
  {
   "cell_type": "code",
   "execution_count": 2,
   "metadata": {},
   "outputs": [
    {
     "name": "stdout",
     "output_type": "stream",
     "text": [
      "88.33333333333333\n"
     ]
    }
   ],
   "source": [
    "book = SimpleGradebook()\n",
    "book.add_student('아이작 뉴턴')\n",
    "book.report_grade('아이작 뉴턴', 90)\n",
    "book.report_grade('아이작 뉴턴', 95)\n",
    "book.report_grade('아이작 뉴턴', 80)\n",
    "\n",
    "print(book.average_grade('아이작 뉴턴'))"
   ]
  },
  {
   "attachments": {},
   "cell_type": "markdown",
   "metadata": {},
   "source": [
    "._grade 딕셔너리를 변경해서 학생 이름(키)이 다른 딕셔너리(값)로 매핑하게 하고, 이 딕셔너리가 다시 과목(키)을 성적의 리스트(값)에 매핑하게 하게 함으로써 과목별 성적 구현할 수 있다.\n",
    "\n",
    "다음 코드는 내부 딕셔너리로 defaultdict의 인스턴스를 사용해서 과목이 없는 경우를 처리한다."
   ]
  },
  {
   "cell_type": "code",
   "execution_count": 5,
   "metadata": {},
   "outputs": [],
   "source": [
    "from collections import defaultdict\n",
    "\n",
    "class BySubjectGradebook:\n",
    "    def __init__(self):\n",
    "        self._grades = {} # 외부 dict\n",
    "\n",
    "    def add_student(self, name):\n",
    "        self._grades[name] = defaultdict(list) # 내부 dict\n",
    "    \n",
    "    def report_grade(self, name, subject, grade):\n",
    "        # _grades 딕셔너리에서 name이라는 키를 가지고 있는 값을 찾는다.\n",
    "        # name이름을 가진 내부 딕셔너리를 'by_subject' 변수에 할당한다.\n",
    "        by_subject = self._grades[name] \n",
    "        # 내부 딕셔너리에서 subject라는 키를 가지고 있는 값을 반환한다.\n",
    "        # 만약 해당 키가 없으면, 빈 리스트를 생성하여 추가한다.\n",
    "        grade_list = by_subject[subject]\n",
    "        # 새로운 성적 정보 grade를 grade_list에 추가한다.\n",
    "        grade_list.append(grade)\n",
    "    \n",
    "    def average_grade(self, name):\n",
    "        by_subject = self._grades[name]\n",
    "        total, count = 0, 0\n",
    "        for grades in by_subject.values():\n",
    "            total += sum(grades)\n",
    "            count += len(grades)\n",
    "        return total/count"
   ]
  },
  {
   "cell_type": "code",
   "execution_count": 7,
   "metadata": {},
   "outputs": [
    {
     "name": "stdout",
     "output_type": "stream",
     "text": [
      "81.25\n"
     ]
    }
   ],
   "source": [
    "book = BySubjectGradebook()\n",
    "book.add_student('알버트 아인슈타인')\n",
    "book.report_grade('알버트 아인슈타인', '수학', 75)\n",
    "book.report_grade('알버트 아인슈타인', '수학', 65)\n",
    "book.report_grade('알버트 아인슈타인', '체육', 90)\n",
    "book.report_grade('알버트 아인슈타인', '체육', 95)\n",
    "print(book.average_grade('알버트 아인슈타인'))"
   ]
  },
  {
   "attachments": {},
   "cell_type": "markdown",
   "metadata": {},
   "source": [
    "Q. 각 점수의 가중치를 함께 저장해서 중간고사와 기말고사가 다른 쪽지 시험보다 더 큰 영향을 미치게 하고싶다.\n",
    "\n",
    "> 가장 안쪽에 있는 딕셔너리가 과목(키)을 성적의 리스트(값)으로 매핑하는 것을 (성적, 가중치) 튜플의 리스트 매핑하도록 변경하는 것"
   ]
  },
  {
   "cell_type": "code",
   "execution_count": 8,
   "metadata": {},
   "outputs": [],
   "source": [
    "class WeightedGradebook :\n",
    "    def __init__(self):\n",
    "        self._grades = {}\n",
    "    \n",
    "    def add_student(self, name):\n",
    "        self._grades[name] = defaultdict(list)\n",
    "    \n",
    "    def report_grade(self, name, subject, score, weight):\n",
    "        by_subject = self._grades[name]\n",
    "        grade_list = by_subject[subject]\n",
    "        # 성적 리스트가 튜플 인스턴스를 저장하게 했음\n",
    "        grade_list.append((score, weight))\n",
    "    \n",
    "    def average_grade(self, name):\n",
    "        by_subject = self._grades[name]\n",
    "        \n",
    "        score_sum, score_count = 0, 0\n",
    "        for subject, scores in by_subject.items():\n",
    "            subject_avg, total_weight = 0, 0\n",
    "\n",
    "            for score, weight in scores:\n",
    "                subject_avg += score * weight\n",
    "                total_weight += weight\n",
    "            \n",
    "            score_sum += subject_avg / total_weight\n",
    "            score_count += 1\n",
    "            \n",
    "        return score_sum / score_count"
   ]
  },
  {
   "cell_type": "code",
   "execution_count": 10,
   "metadata": {},
   "outputs": [
    {
     "name": "stdout",
     "output_type": "stream",
     "text": [
      "79.82142857142858\n"
     ]
    }
   ],
   "source": [
    "book = WeightedGradebook()\n",
    "book.add_student('알버트 아인슈타인')\n",
    "book.report_grade('알버트 아인슈타인', '수학', 75, 0.05)\n",
    "book.report_grade('알버트 아인슈타인', '수학', 65, 0.15)\n",
    "book.report_grade('알버트 아인슈타인', '체육', 90, 0.80)\n",
    "book.report_grade('알버트 아인슈타인', '체육', 95, 0.60)\n",
    "print(book.average_grade('알버트 아인슈타인'))"
   ]
  },
  {
   "cell_type": "code",
   "execution_count": null,
   "metadata": {},
   "outputs": [],
   "source": [
    "_grades = {  \n",
    "    \"Alice\": {  \n",
    "        \"Math\": [(90, 0.3), (80, 0.4), (70, 0.3)],  \n",
    "        \"Science\": [(85, 0.4), (75, 0.6)],  \n",
    "    },  \n",
    "    \"Bob\": {  \n",
    "        \"Math\": [(95, 0.5), (85, 0.5)],  \n",
    "        \"History\": [(80, 1.0)],  \n",
    "    }  \n",
    "}  "
   ]
  },
  {
   "attachments": {},
   "cell_type": "markdown",
   "metadata": {},
   "source": [
    "이런 형태로 저장된 것\n",
    "\n",
    "_grades 딕셔너리는 학생의 이름을 키(key)로, 학생이 수강한 과목과 해당 과목의 성적 리스트를 값(value)으로 갖는 defaultdict(list)입니다. 이 defaultdict는 새로운 키(key)가 추가될 때마다 자동으로 빈 리스트를 할당합니다."
   ]
  },
  {
   "attachments": {},
   "cell_type": "markdown",
   "metadata": {},
   "source": [
    "파이썬 내장 딕셔너리와 튜플은 사용하기 편하므로 내부에 계속 딕셔너리, 리스트, 튜플 등의 계층을 추가해가면서 코드를 사용하기 쉽다.\n",
    "\n",
    "> 그러나, 내포 단계가 두 단계 이상이 되면 더 이상 딕셔너리, 리스트, 튜플 계층을 추가하지 말아야 한다.  \n",
    "\n",
    ">> 다른 프로그래머들이 코드를 읽기 어려워짐 & 유지보수 어려움"
   ]
  },
  {
   "attachments": {},
   "cell_type": "markdown",
   "metadata": {},
   "source": [
    "#### 클래스를 활용해 리팩터링하기\n",
    "\n",
    "- 의존 관계 트리의 맨 밑바닥을 점수를 표현하는 클래스로 옮긴다\n",
    "\n",
    "> 그렇지만, 이런 단순한 정보를 표현하는 클래스를 따로 만들면 너무 많은 비용이 든다\n",
    "\n",
    ">> 점수는 불변 값이기 때문에 튜플이 더 적당해 보인다."
   ]
  },
  {
   "cell_type": "code",
   "execution_count": 14,
   "metadata": {},
   "outputs": [],
   "source": [
    "grades = []\n",
    "grades.append((95, 0.45))\n",
    "grades.append((85, 0.55))\n",
    "total = sum(score * weight for score, weight in grades)\n",
    "total_weight = sum(weight for _, weight in grades)\n",
    "average_grades = total / total_weight"
   ]
  },
  {
   "attachments": {},
   "cell_type": "markdown",
   "metadata": {},
   "source": [
    "튜플을 점점 더 길게 확장시키는 패턴은 딕셔너리를 여러단계로 내포시키는 경우와 유사  \n",
    "\n",
    "원소가 세 개 이상인 튜플을 사용한다면 다른 접근방법 생각해봐야함\n",
    "\n",
    "- namedtuple\n",
    "\n",
    "> 튜플(tuple)과 같이 불변(immutable)한 객체이지만, 각각의 요소(element)에 이름(name)을 붙일 수 있다. 이를 통해 튜플의 각 요소에 직관적으로 접근할 수 있게 되어 코드의 가독성을 높이는데 도움을 준다.\n",
    "\n",
    "장점 :\n",
    "\n",
    "1. 코드 가독성 개선 \n",
    "- 이름이 있는 속성으로 요소에 접근 가능하므로, 인덱스 대신 속성을 이용해 코드를 읽기 쉽게 만든다.\n",
    "2. 편리한 디버깅\n",
    "- 튜플과 같이 불변하므로 디버깅 중 오류가 발생할 때 튜플요소가 변경되지 않아 예상치 못한 결과가 발생하는 일이 없다.\n",
    "3. 메모리 사용 개선\n",
    "- 일반 클래스보다 더 가볍고 작성하기 쉬움\n",
    "\n",
    "단점 :\n",
    "\n",
    "1. 불변(immutable) 객체 : nametuple은 한번 생성된 후에는 요소 값을 변경할 수 없다. 데이터가 변경될 때 마다 새로운 namedtuples를 만들어야 한다.\n",
    "\n",
    "2. 클래스의 제한 : 일반 클래스보다 제한된 기능을 제공. 상속 및 메소드 오버라이드와 같은 일반 클래스의 일부 기능 사용 X"
   ]
  },
  {
   "cell_type": "code",
   "execution_count": 18,
   "metadata": {},
   "outputs": [],
   "source": [
    "from collections import namedtuple\n",
    "\n",
    "Grade = namedtuple('Grade', ('score', 'weight'))"
   ]
  },
  {
   "cell_type": "code",
   "execution_count": 22,
   "metadata": {},
   "outputs": [],
   "source": [
    "class Subject:\n",
    "    def __init__(self):\n",
    "        self._grades = []\n",
    "\n",
    "    def report_grade(self, score, weight):\n",
    "        self._grades.append(Grade(score, weight))\n",
    "    \n",
    "    def average_grade(self):\n",
    "        total, total_weight = 0, 0\n",
    "        # 특정 과목의 평균 성적 계산\n",
    "        for grade in self._grades:\n",
    "            total += grade.score * grade.weight\n",
    "            total_weight += grade.weight\n",
    "        return total / total_weight\n",
    "    \n",
    "class Student:\n",
    "    def __init__(self):\n",
    "        # _subject 라는 딕셔너리를 생성하고\n",
    "        # Subject 클래스의 인스턴스를 이 딕셔너리 값으로 설정\n",
    "        self._subject = defaultdict(Subject)\n",
    "    \n",
    "    def get_subject(self, name):\n",
    "        return self._subject[name]\n",
    "    \n",
    "    def average_grade(self):\n",
    "        total, count = 0, 0\n",
    "        for subject in self._subject.values():\n",
    "            # 모든 과목의 평균 성적 계산\n",
    "            total += subject.average_grade()\n",
    "            count += 1\n",
    "        return total/count\n",
    "    \n",
    "# 모든 학생을 저장하는 컨테이너\n",
    "# 이름을 사용해 동적으로 학생을 저장\n",
    "class Gradebook:\n",
    "    def __init__(self):\n",
    "        # _student라는 딕셔너리를 생성하고\n",
    "        # Student 클래스의 인스턴스를 이 딕셔너리 값으로 설정\n",
    "        self._student = defaultdict(Student)\n",
    "\n",
    "    def get_student(self, name):\n",
    "        # name 인자를 받아 _student 딕셔너리에서 해당 이름의 학생 정보를 가져옴\n",
    "        # _student 딕셔너리 : 학생 이름을 키로 가짐\n",
    "        # Student 클래스의 인스턴스를 값으로 가짐\n",
    "        return self._student[name]"
   ]
  },
  {
   "attachments": {},
   "cell_type": "markdown",
   "metadata": {},
   "source": [
    "- 위 코드 설명\n",
    "> Gradebook 클래스는 학생의 이름을 키(key)로 가지고, 해당 학생의 정보를 값(value)으로 가지는 defaultdict 객체를 이용하여 구현 됨\n",
    "\n",
    "> 각 학생은 Student 클래스의 인스턴스로 저장되고, Student 클래스는 특정 과목(subject)에 대한 정보를 Subject 클래스의 인스턴스로 저장. 이를 통해, Gradebook 객체는 각 학생이 수강한 과목과 각 과목에서의 성적을 저장하게 됩니다.\n",
    "\n",
    "- 객체 내부 클래스 저장 과정  \n",
    "> 학생 이름 -> Student 클래스의 인스턴스 -> 과목 이름 -> Subject 클래스의 인스턴스 -> 성적 정보(Grade 클래스의 인스턴스)"
   ]
  },
  {
   "cell_type": "code",
   "execution_count": 1,
   "metadata": {},
   "outputs": [
    {
     "ename": "SyntaxError",
     "evalue": "invalid syntax (2360761404.py, line 5)",
     "output_type": "error",
     "traceback": [
      "\u001b[1;36m  Cell \u001b[1;32mIn[1], line 5\u001b[1;36m\u001b[0m\n\u001b[1;33m    \"John\": Student 객체 {\u001b[0m\n\u001b[1;37m                    ^\u001b[0m\n\u001b[1;31mSyntaxError\u001b[0m\u001b[1;31m:\u001b[0m invalid syntax\n"
     ]
    }
   ],
   "source": [
    "# John이라는 이름의 학생이 Math라는 과목을 수강했고,\n",
    "# 성적이 (90, 0.5)와, (80, 0.5)인 경우는 어떻게 저장될까?\n",
    "\n",
    "{\n",
    "    \"John\": Student 객체 {\n",
    "        \"_subject\": defaultdict(Subject, {\n",
    "            \"Math\": Subject 객체 {\n",
    "                \"_grades\": [Grade 객체(90, 0.5), Grade 객체(80, 0.5)]\n",
    "            }\n",
    "        })\n",
    "    }\n",
    "}"
   ]
  },
  {
   "cell_type": "code",
   "execution_count": 24,
   "metadata": {},
   "outputs": [
    {
     "name": "stdout",
     "output_type": "stream",
     "text": [
      "80.25\n",
      "91.0\n"
     ]
    }
   ],
   "source": [
    "book = Gradebook()\n",
    "albert = book.get_student('알버트 아인슈타인')\n",
    "math = albert.get_subject('수학')\n",
    "math.report_grade(75, 0.05)\n",
    "math.report_grade(65, 0.15)\n",
    "math.report_grade(70, 0.80)\n",
    "gym = albert.get_subject('체육')\n",
    "gym.report_grade(100, 0.40)\n",
    "gym.report_grade(85, 0.60)\n",
    "print(albert.average_grade())\n",
    "print(gym.average_grade())"
   ]
  }
 ],
 "metadata": {
  "kernelspec": {
   "display_name": "Python 3",
   "language": "python",
   "name": "python3"
  },
  "language_info": {
   "codemirror_mode": {
    "name": "ipython",
    "version": 3
   },
   "file_extension": ".py",
   "mimetype": "text/x-python",
   "name": "python",
   "nbconvert_exporter": "python",
   "pygments_lexer": "ipython3",
   "version": "3.8.8"
  },
  "orig_nbformat": 4
 },
 "nbformat": 4,
 "nbformat_minor": 2
}
