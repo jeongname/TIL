{
 "cells": [
  {
   "attachments": {},
   "cell_type": "markdown",
   "metadata": {},
   "source": [
    "BETTER WAY 37. 내장 타입을 여러개로 내포시키기 보다는 클래스를 합성하라."
   ]
  },
  {
   "attachments": {},
   "cell_type": "markdown",
   "metadata": {},
   "source": [
    "- 파이썬 내장 딕셔너리 타입을 사용하면, 객체의 생명 주기 동안 동적인 내부 상태를 잘 유지할 수 있다.\n",
    "> 동적(dynamic) : 어떤 값이 들어올지 미리 알 수 없는 식별자들을 유지해야 함\n",
    "\n",
    "ex) 학생의 이름은 미리 알 수 없는 상황이라고 하자. 이럴때는 학생별로 미리 정의된 애트리뷰트를 사용하는 대신, 딕셔너리에 이름을 저장하는 클래스를 정의할 수 있다.\n",
    "> 애트리뷰트 : 속성, column"
   ]
  },
  {
   "cell_type": "code",
   "execution_count": 1,
   "metadata": {},
   "outputs": [],
   "source": [
    "class SimpleGradebook :\n",
    "    def __init__(self) :\n",
    "        self._grades = {}\n",
    "\n",
    "    def add_student(self, name):\n",
    "        self._grades[name] = []\n",
    "    \n",
    "    def report_grade(self, name, score):\n",
    "        self._grades[name].append(score)\n",
    "    \n",
    "    def average_grade(self, name):\n",
    "        grades = self._grades[name]\n",
    "        return sum(grades) / len(grades)"
   ]
  },
  {
   "cell_type": "code",
   "execution_count": 2,
   "metadata": {},
   "outputs": [
    {
     "name": "stdout",
     "output_type": "stream",
     "text": [
      "88.33333333333333\n"
     ]
    }
   ],
   "source": [
    "book = SimpleGradebook()\n",
    "book.add_student('아이작 뉴턴')\n",
    "book.report_grade('아이작 뉴턴', 90)\n",
    "book.report_grade('아이작 뉴턴', 95)\n",
    "book.report_grade('아이작 뉴턴', 80)\n",
    "\n",
    "print(book.average_grade('아이작 뉴턴'))"
   ]
  },
  {
   "attachments": {},
   "cell_type": "markdown",
   "metadata": {},
   "source": [
    "._grade 딕셔너리를 변경해서 학생 이름(키)이 다른 딕셔너리(값)로 매핑하게 하고, 이 딕셔너리가 다시 과목(키)을 성적의 리스트(값)에 매핑하게 하게 함으로써 과목별 성적 구현할 수 있다.\n",
    "\n",
    "다음 코드는 내부 딕셔너리로 defaultdict의 인스턴스를 사용해서 과목이 없는 경우를 처리한다."
   ]
  },
  {
   "cell_type": "code",
   "execution_count": 5,
   "metadata": {},
   "outputs": [],
   "source": [
    "from collections import defaultdict\n",
    "\n",
    "class BySubjectGradebook:\n",
    "    def __init__(self):\n",
    "        self._grades = {} # 외부 dict\n",
    "\n",
    "    def add_student(self, name):\n",
    "        self._grades[name] = defaultdict(list) # 내부 dict\n",
    "    \n",
    "    def report_grade(self, name, subject, grade):\n",
    "        # _grades 딕셔너리에서 name이라는 키를 가지고 있는 값을 찾는다.\n",
    "        # name이름을 가진 내부 딕셔너리를 'by_subject' 변수에 할당한다.\n",
    "        by_subject = self._grades[name] \n",
    "        # 내부 딕셔너리에서 subject라는 키를 가지고 있는 값을 반환한다.\n",
    "        # 만약 해당 키가 없으면, 빈 리스트를 생성하여 추가한다.\n",
    "        grade_list = by_subject[subject]\n",
    "        # 새로운 성적 정보 grade를 grade_list에 추가한다.\n",
    "        grade_list.append(grade)\n",
    "    \n",
    "    def average_grade(self, name):\n",
    "        by_subject = self._grades[name]\n",
    "        total, count = 0, 0\n",
    "        for grades in by_subject.values():\n",
    "            total += sum(grades)\n",
    "            count += len(grades)\n",
    "        return total/count"
   ]
  },
  {
   "cell_type": "code",
   "execution_count": 7,
   "metadata": {},
   "outputs": [
    {
     "name": "stdout",
     "output_type": "stream",
     "text": [
      "81.25\n"
     ]
    }
   ],
   "source": [
    "book = BySubjectGradebook()\n",
    "book.add_student('알버트 아인슈타인')\n",
    "book.report_grade('알버트 아인슈타인', '수학', 75)\n",
    "book.report_grade('알버트 아인슈타인', '수학', 65)\n",
    "book.report_grade('알버트 아인슈타인', '체육', 90)\n",
    "book.report_grade('알버트 아인슈타인', '체육', 95)\n",
    "print(book.average_grade('알버트 아인슈타인'))"
   ]
  },
  {
   "attachments": {},
   "cell_type": "markdown",
   "metadata": {},
   "source": [
    "Q. 각 점수의 가중치를 함께 저장해서 중간고사와 기말고사가 다른 쪽지 시험보다 더 큰 영향을 미치게 하고싶다.\n",
    "\n",
    "> 가장 안쪽에 있는 딕셔너리가 과목(키)을 성적의 리스트(값)으로 매핑하는 것을 (성적, 가중치) 튜플의 리스트 매핑하도록 변경하는 것"
   ]
  },
  {
   "cell_type": "code",
   "execution_count": 8,
   "metadata": {},
   "outputs": [],
   "source": [
    "class WeightedGradebook :\n",
    "    def __init__(self):\n",
    "        self._grades = {}\n",
    "    \n",
    "    def add_student(self, name):\n",
    "        self._grades[name] = defaultdict(list)\n",
    "    \n",
    "    def report_grade(self, name, subject, score, weight):\n",
    "        by_subject = self._grades[name]\n",
    "        grade_list = by_subject[subject]\n",
    "        # 성적 리스트가 튜플 인스턴스를 저장하게 했음\n",
    "        grade_list.append((score, weight))\n",
    "    \n",
    "    def average_grade(self, name):\n",
    "        by_subject = self._grades[name]\n",
    "        \n",
    "        score_sum, score_count = 0, 0\n",
    "        for subject, scores in by_subject.items():\n",
    "            subject_avg, total_weight = 0, 0\n",
    "\n",
    "            for score, weight in scores:\n",
    "                subject_avg += score * weight\n",
    "                total_weight += weight\n",
    "            \n",
    "            score_sum += subject_avg / total_weight\n",
    "            score_count += 1\n",
    "            \n",
    "        return score_sum / score_count"
   ]
  },
  {
   "cell_type": "code",
   "execution_count": 10,
   "metadata": {},
   "outputs": [
    {
     "name": "stdout",
     "output_type": "stream",
     "text": [
      "79.82142857142858\n"
     ]
    }
   ],
   "source": [
    "book = WeightedGradebook()\n",
    "book.add_student('알버트 아인슈타인')\n",
    "book.report_grade('알버트 아인슈타인', '수학', 75, 0.05)\n",
    "book.report_grade('알버트 아인슈타인', '수학', 65, 0.15)\n",
    "book.report_grade('알버트 아인슈타인', '체육', 90, 0.80)\n",
    "book.report_grade('알버트 아인슈타인', '체육', 95, 0.60)\n",
    "print(book.average_grade('알버트 아인슈타인'))"
   ]
  },
  {
   "attachments": {},
   "cell_type": "markdown",
   "metadata": {},
   "source": [
    "_grades = {\n",
    "    \"Alice\": {\n",
    "        \"Math\": [(90, 0.3), (80, 0.4), (70, 0.3)],\n",
    "        \"Science\": [(85, 0.4), (75, 0.6)],\n",
    "    },\n",
    "    \"Bob\": {\n",
    "        \"Math\": [(95, 0.5), (85, 0.5)],\n",
    "        \"History\": [(80, 1.0)],\n",
    "    }\n",
    "}\n",
    "\n",
    "이런 형태로 저장된 것\n",
    "\n",
    "_grades 딕셔너리는 학생의 이름을 키(key)로, 학생이 수강한 과목과 해당 과목의 성적 리스트를 값(value)으로 갖는 defaultdict(list)입니다. 이 defaultdict는 새로운 키(key)가 추가될 때마다 자동으로 빈 리스트를 할당합니다."
   ]
  },
  {
   "attachments": {},
   "cell_type": "markdown",
   "metadata": {},
   "source": [
    "파이썬 내장 딕셔너리와 튜플은 사용하기 편하므로 내부에 계속 딕셔너리, 리스트, 튜플 등의 계층을 추가해가면서 코드를 사용하기 쉽다.\n",
    "\n",
    "> 그러나, 내포 단계가 두 단계 이상이 되면 더 이상 딕셔너리, 리스트, 튜플 계층을 추가하지 말아야 한다.  \n",
    "\n",
    ">> 다른 프로그래머들이 코드를 읽기 어려워짐 & 유지보수 어려움"
   ]
  },
  {
   "attachments": {},
   "cell_type": "markdown",
   "metadata": {},
   "source": [
    "#### 클래스를 활용해 리팩터링하기\n",
    "\n",
    "- 의존 관계 트리의 맨 밑바닥을 점수를 표현하는 클래스로 옮긴다\n",
    "\n",
    "> 그렇지만, 이런 단순한 정보를 표현하는 클래스를 따로 만들면 너무 많은 비용이 든다\n",
    "\n",
    ">> 점수는 불변 값이기 때문에 튜플이 더 적당해 보인다."
   ]
  },
  {
   "cell_type": "code",
   "execution_count": 14,
   "metadata": {},
   "outputs": [],
   "source": [
    "grades = []\n",
    "grades.append((95, 0.45))\n",
    "grades.append((85, 0.55))\n",
    "total = sum(score * weight for score, weight in grades)\n",
    "total_weight = sum(weight for _, weight in grades)\n",
    "average_grades = total / total_weight"
   ]
  },
  {
   "attachments": {},
   "cell_type": "markdown",
   "metadata": {},
   "source": [
    "튜플을 점점 더 길게 확장시키는 패턴은 딕셔너리를 여러단계로 내포시키는 경우와 유사  \n",
    "\n",
    "원소가 세 개 이상인 튜플을 사용한다면 다른 접근방법 생각해봐야함\n",
    "\n",
    "> namedtuple\n",
    "\n",
    ">> 일반적인 튜플은 인덱스로만 값을 접근할 수 있지만, namedtuple은 키-값 쌍으로도 값을 접근할 수 있기 때문에 가독성이 좋고 코드를 작성할 때 실수를 줄일 수 있음\n",
    "\n",
    ">> namedtuple은 선언할 때 클래스 형태로 선언. 각 필드의 이름과 데이터 타입을 정의하고, 필드 이름으로 접근이 가능합니다."
   ]
  },
  {
   "cell_type": "code",
   "execution_count": 18,
   "metadata": {},
   "outputs": [],
   "source": [
    "from collections import namedtuple\n",
    "\n",
    "Grade = namedtuple('Grade', ('score', 'weight'))"
   ]
  },
  {
   "cell_type": "code",
   "execution_count": 22,
   "metadata": {},
   "outputs": [],
   "source": [
    "class Subject:\n",
    "    def __init__(self):\n",
    "        self._grades = []\n",
    "\n",
    "    def report_grade(self, score, weight):\n",
    "        self._grades.append(Grade(score, weight))\n",
    "    \n",
    "    def average_grade(self):\n",
    "        total, total_weight = 0, 0\n",
    "        # 특정 과목의 평균 성적 계산\n",
    "        for grade in self._grades:\n",
    "            total += grade.score * grade.weight\n",
    "            total_weight += grade.weight\n",
    "        return total / total_weight\n",
    "    \n",
    "class Student:\n",
    "    def __init__(self):\n",
    "        # _subject 라는 딕셔너리를 생성하고\n",
    "        # Subject 클래스의 인스턴스를 이 딕셔너리 값으로 설정\n",
    "        self._subject = defaultdict(Subject)\n",
    "    \n",
    "    def get_subject(self, name):\n",
    "        return self._subject[name]\n",
    "    \n",
    "    def average_grade(self):\n",
    "        total, count = 0, 0\n",
    "        for subject in self._subject.values():\n",
    "            # 모든 과목의 평균 성적 계산\n",
    "            total += subject.average_grade()\n",
    "            count += 1\n",
    "        return total/count\n",
    "    \n",
    "# 모든 학생을 저장하는 컨테이너\n",
    "# 이름을 사용해 동적으로 학생을 저장\n",
    "class Gradebook:\n",
    "    def __init__(self):\n",
    "        # _student라는 딕셔너리를 생성하고\n",
    "        # Student 클래스의 인스턴스를 이 딕셔너리 값으로 설정\n",
    "        self._student = defaultdict(Student)\n",
    "\n",
    "    def get_student(self, name):\n",
    "        # name 인자를 받아 _student 딕셔너리에서 해당 이름의 학생 정보를 가져옴\n",
    "        # _student 딕셔너리 : 학생 이름을 키로 가짐\n",
    "        # Student 클래스의 인스턴스를 값으로 가짐\n",
    "        return self._student[name]"
   ]
  },
  {
   "cell_type": "code",
   "execution_count": 24,
   "metadata": {},
   "outputs": [
    {
     "name": "stdout",
     "output_type": "stream",
     "text": [
      "80.25\n",
      "91.0\n"
     ]
    }
   ],
   "source": [
    "book = Gradebook()\n",
    "albert = book.get_student('알버트 아인슈타인')\n",
    "math = albert.get_subject('수학')\n",
    "math.report_grade(75, 0.05)\n",
    "math.report_grade(65, 0.15)\n",
    "math.report_grade(70, 0.80)\n",
    "gym = albert.get_subject('체육')\n",
    "gym.report_grade(100, 0.40)\n",
    "gym.report_grade(85, 0.60)\n",
    "print(albert.average_grade())\n",
    "print(gym.average_grade())"
   ]
  }
 ],
 "metadata": {
  "kernelspec": {
   "display_name": "Python 3",
   "language": "python",
   "name": "python3"
  },
  "language_info": {
   "codemirror_mode": {
    "name": "ipython",
    "version": 3
   },
   "file_extension": ".py",
   "mimetype": "text/x-python",
   "name": "python",
   "nbconvert_exporter": "python",
   "pygments_lexer": "ipython3",
   "version": "3.8.8"
  },
  "orig_nbformat": 4
 },
 "nbformat": 4,
 "nbformat_minor": 2
}
