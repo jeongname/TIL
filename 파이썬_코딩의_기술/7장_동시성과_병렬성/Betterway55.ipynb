{
 "cells": [
  {
   "cell_type": "code",
   "execution_count": 1,
   "metadata": {},
   "outputs": [],
   "source": [
    "def download(item):\n",
    "    ...\n",
    "\n",
    "def resize(item):\n",
    "    ...\n",
    "\n",
    "def upload(item):\n",
    "    ..."
   ]
  },
  {
   "cell_type": "code",
   "execution_count": 2,
   "metadata": {},
   "outputs": [],
   "source": [
    "from collections import deque\n",
    "from threading import Lock\n",
    "\n",
    "class MyQueue:\n",
    "\tdef __init__(self):\n",
    "\t\tself.items = deque()\n",
    "\t\tself.lock = Lock()\n",
    "\t\n",
    "\tdef put(self, item):\n",
    "\t\twith self.lock:\n",
    "\t\t\tself.items.append(item)\n",
    "\t\n",
    "\tdef get(self, item):\n",
    "\t\twith self.lock:\n",
    "\t\t\tself.items.popleft(item)"
   ]
  },
  {
   "cell_type": "code",
   "execution_count": 3,
   "metadata": {},
   "outputs": [],
   "source": [
    "def put(self, item):\n",
    "    with self.lock:\n",
    "        self.items.apend(item)"
   ]
  },
  {
   "cell_type": "code",
   "execution_count": 4,
   "metadata": {},
   "outputs": [],
   "source": [
    "def get(self, item):\n",
    "    with self.lock:\n",
    "        self.items.popleft(item)"
   ]
  },
  {
   "cell_type": "code",
   "execution_count": 5,
   "metadata": {},
   "outputs": [],
   "source": [
    "from threading import Thread\n",
    "import time\n",
    "\n",
    "class Worker(Thread):\n",
    "    def __init__(self, func, in_queue, out_queue):\n",
    "        super().__init__()\n",
    "        self.func = func\n",
    "        self.in_queue = in_queue\n",
    "        self.out_queue = out_queue\n",
    "        self.polled_count = 0\n",
    "        self.work_done = 0"
   ]
  },
  {
   "cell_type": "code",
   "execution_count": 6,
   "metadata": {},
   "outputs": [],
   "source": [
    "def run(self):\n",
    "    while True:\n",
    "        self.polled_count += 1\n",
    "        try :\n",
    "            item = self.in_queue.get()\n",
    "        except IndexError:\n",
    "            time.sleep(0.01) # 할 일이 없음\n",
    "        else :\n",
    "            result = self.fun(item)\n",
    "            self.out_queue.put(result)\n",
    "            self.work_done += 1"
   ]
  },
  {
   "cell_type": "code",
   "execution_count": 7,
   "metadata": {},
   "outputs": [],
   "source": [
    "download_queue = MyQueue()\n",
    "resize_queue = MyQueue()\n",
    "upload_queue = MyQueue()\n",
    "done_queue = MyQueue()\n",
    "\n",
    "threads = [\n",
    "    Worker(download, download_queue, resize_queue),\n",
    "    Worker(resize, resize_queue, upload_queue),\n",
    "    Worker(upload, upload_queue, done_queue)\n",
    "]"
   ]
  },
  {
   "cell_type": "code",
   "execution_count": 8,
   "metadata": {},
   "outputs": [],
   "source": [
    "for thread in threads:\n",
    "    thread.start()\n",
    "\n",
    "for _ in range(1000):\n",
    "    download_queue.put(object())"
   ]
  },
  {
   "cell_type": "code",
   "execution_count": 51,
   "metadata": {},
   "outputs": [
    {
     "ename": "KeyboardInterrupt",
     "evalue": "",
     "output_type": "error",
     "traceback": [
      "\u001b[1;31m---------------------------------------------------------------------------\u001b[0m",
      "\u001b[1;31mKeyboardInterrupt\u001b[0m                         Traceback (most recent call last)",
      "Cell \u001b[1;32mIn[51], line 3\u001b[0m\n\u001b[0;32m      1\u001b[0m \u001b[39mwhile\u001b[39;00m \u001b[39mlen\u001b[39m(done_queue\u001b[39m.\u001b[39mitems) \u001b[39m<\u001b[39m \u001b[39m1000\u001b[39m:\n\u001b[0;32m      2\u001b[0m     \u001b[39m# 기다리는 도안 유용한 작업을 수행한다.\u001b[39;00m\n\u001b[1;32m----> 3\u001b[0m     time\u001b[39m.\u001b[39;49msleep(\u001b[39m0.1\u001b[39;49m)\n\u001b[0;32m      5\u001b[0m \u001b[39mfor\u001b[39;00m thread \u001b[39min\u001b[39;00m threads:\n\u001b[0;32m      6\u001b[0m     thread\u001b[39m.\u001b[39min_queue \u001b[39m=\u001b[39m \u001b[39mNone\u001b[39;00m\n",
      "\u001b[1;31mKeyboardInterrupt\u001b[0m: "
     ]
    }
   ],
   "source": [
    "while len(done_queue.items) < 1000:\n",
    "    # 기다리는 도안 유용한 작업을 수행한다.\n",
    "    time.sleep(0.1)\n",
    "    \n",
    "for thread in threads:\n",
    "    thread.in_queue = None\n",
    "    thread.join()"
   ]
  },
  {
   "cell_type": "code",
   "execution_count": 9,
   "metadata": {},
   "outputs": [
    {
     "name": "stdout",
     "output_type": "stream",
     "text": [
      "0 개의 아이템을 처리했습니다,이때 풀링을 0번 했습니다.\n"
     ]
    }
   ],
   "source": [
    "processed = len(done_queue.items)\n",
    "polled = sum(t.polled_count for t in threads)\n",
    "print(f'{processed} 개의 아이템을 처리했습니다,'\n",
    "      f'이때 풀링을 {polled}번 했습니다.')"
   ]
  },
  {
   "cell_type": "code",
   "execution_count": 10,
   "metadata": {},
   "outputs": [
    {
     "name": "stdout",
     "output_type": "stream",
     "text": [
      "소비자 대기\n"
     ]
    }
   ],
   "source": [
    "from queue import Queue\n",
    "\n",
    "my_queue = Queue()\n",
    "\n",
    "def consumer():\n",
    "    print('소비자 대기')\n",
    "    my_queue.get() # 다음에 보여줄 put()이 실행된 다음에 실행된다.\n",
    "    print('소비자 완료')\n",
    "\n",
    "thread = Thread(target=consumer)\n",
    "thread.start()"
   ]
  },
  {
   "cell_type": "code",
   "execution_count": 11,
   "metadata": {},
   "outputs": [
    {
     "name": "stdout",
     "output_type": "stream",
     "text": [
      "생산자 데이터 추가\n",
      "생산자 완료\n",
      "소비자 완료\n"
     ]
    }
   ],
   "source": [
    "print('생산자 데이터 추가')\n",
    "my_queue.put(object()) # 앞에서 본 get()이 실행되기 전에 실행된다.\n",
    "print('생산자 완료')\n",
    "thread.join()"
   ]
  },
  {
   "cell_type": "code",
   "execution_count": 12,
   "metadata": {},
   "outputs": [],
   "source": [
    "my_queue = Queue(1) # 버퍼크기 1\n",
    "\n",
    "def consumer():\n",
    "    time.sleep(0.1) # 대기\n",
    "    my_queue.get() # 두번째로 실행됨\n",
    "    print('소비자 1')\n",
    "    my_queue.get() # 네번째로 실행됨\n",
    "    print('소비자 2')\n",
    "    print('소비자 완료')\n",
    "\n",
    "thread = Thread(target=consumer)\n",
    "thread.start()"
   ]
  },
  {
   "cell_type": "code",
   "execution_count": 13,
   "metadata": {},
   "outputs": [
    {
     "name": "stdout",
     "output_type": "stream",
     "text": [
      "생산자 1소비자 1\n",
      "\n",
      "생산자 2\n",
      "생산자 완료\n",
      "소비자 2\n",
      "소비자 완료\n"
     ]
    }
   ],
   "source": [
    "# Example 14\n",
    "my_queue.put(object())          # Runs first\n",
    "print('생산자 1')\n",
    "my_queue.put(object())          # Runs third\n",
    "print('생산자 2')\n",
    "print('생산자 완료')\n",
    "thread.join()"
   ]
  },
  {
   "cell_type": "code",
   "execution_count": 14,
   "metadata": {},
   "outputs": [],
   "source": [
    "class ClosableQueue(Queue):\n",
    "    SENTINEL = object()\n",
    "\n",
    "    def close(self):\n",
    "        self.put(self.SENTINEL)\n",
    "\n",
    "    def __iter__(self):\n",
    "        while True:\n",
    "            item = self.get()\n",
    "            try:\n",
    "                if item is self.SENTINEL:\n",
    "                    return # 스레드를 종료시킨다.\n",
    "                yield item\n",
    "            finally:\n",
    "                self.task_done()"
   ]
  },
  {
   "cell_type": "code",
   "execution_count": 15,
   "metadata": {},
   "outputs": [],
   "source": [
    "class StoppableWorker(Thread):\n",
    "    def __init__(self, func, in_queue, out_queue):\n",
    "        super().__init__()\n",
    "        self.func = func\n",
    "        self.in_queue = in_queue\n",
    "        self.out_queue = out_queue\n",
    "    \n",
    "    def run(self):\n",
    "        for item in self.in_queue:\n",
    "            result = self.func(item)\n",
    "            self.out_queue.put(result)"
   ]
  },
  {
   "cell_type": "code",
   "execution_count": 16,
   "metadata": {},
   "outputs": [],
   "source": [
    "download_queue = ClosableQueue()\n",
    "resize_queue = ClosableQueue()\n",
    "upload_queue = ClosableQueue()\n",
    "done_queue = ClosableQueue()\n",
    "\n",
    "threads = [\n",
    "    StoppableWorker(download, download_queue, resize_queue),\n",
    "    StoppableWorker(resize, resize_queue, upload_queue),\n",
    "    StoppableWorker(upload, upload_queue, done_queue)\n",
    "]"
   ]
  },
  {
   "cell_type": "code",
   "execution_count": 23,
   "metadata": {},
   "outputs": [],
   "source": [
    "for thread in threads :\n",
    "    thread.start()\n",
    "\n",
    "for _ in range(1000):\n",
    "    download_queue.put(object())\n",
    "\n",
    "done_queue.close()"
   ]
  },
  {
   "cell_type": "code",
   "execution_count": 24,
   "metadata": {},
   "outputs": [
    {
     "name": "stdout",
     "output_type": "stream",
     "text": [
      "1001 개의 원소가 처리됨\n"
     ]
    }
   ],
   "source": [
    "download_queue.join()\n",
    "resize_queue.close()\n",
    "resize_queue.join()\n",
    "upload_queue.close()\n",
    "upload_queue.join()\n",
    "print(done_queue.qsize(), '개의 원소가 처리됨')\n",
    "\n",
    "for thread in threads:\n",
    "    thread.join()"
   ]
  },
  {
   "cell_type": "code",
   "execution_count": 17,
   "metadata": {},
   "outputs": [],
   "source": [
    "def start_threads(count, *args):\n",
    "    threads = [StoppableWorker(*args) for _ in range(count)]\n",
    "    for thread in threads:\n",
    "        thread.start()\n",
    "    return threads\n",
    "\n",
    "def stop_threads(closable_queue, threads):\n",
    "    for _ in threads:\n",
    "        closable_queue.close()\n",
    "\n",
    "    closable_queue.join()\n",
    "\n",
    "    for thread in threads:\n",
    "        thread.join()\n"
   ]
  },
  {
   "cell_type": "code",
   "execution_count": 18,
   "metadata": {},
   "outputs": [
    {
     "name": "stdout",
     "output_type": "stream",
     "text": [
      "1000 개의 원소가 처리됨\n"
     ]
    }
   ],
   "source": [
    "download_queue = ClosableQueue()\n",
    "resize_queue = ClosableQueue()\n",
    "upload_queue = ClosableQueue()\n",
    "done_queue = ClosableQueue()\n",
    "\n",
    "download_threads = start_threads(\n",
    "    3, download, download_queue, resize_queue)\n",
    "resize_threads = start_threads(\n",
    "    4, resize, resize_queue, upload_queue)\n",
    "upload_threads = start_threads(\n",
    "    5, upload, upload_queue, done_queue)\n",
    "\n",
    "for _ in range(1000):\n",
    "    download_queue.put(object())\n",
    "\n",
    "stop_threads(download_queue, download_threads)\n",
    "stop_threads(resize_queue, resize_threads)\n",
    "stop_threads(upload_queue, upload_threads)\n",
    "\n",
    "print(done_queue.qsize(), '개의 원소가 처리됨')"
   ]
  },
  {
   "cell_type": "code",
   "execution_count": null,
   "metadata": {},
   "outputs": [],
   "source": []
  }
 ],
 "metadata": {
  "kernelspec": {
   "display_name": "Python 3",
   "language": "python",
   "name": "python3"
  },
  "language_info": {
   "codemirror_mode": {
    "name": "ipython",
    "version": 3
   },
   "file_extension": ".py",
   "mimetype": "text/x-python",
   "name": "python",
   "nbconvert_exporter": "python",
   "pygments_lexer": "ipython3",
   "version": "3.8.8"
  },
  "orig_nbformat": 4
 },
 "nbformat": 4,
 "nbformat_minor": 2
}
